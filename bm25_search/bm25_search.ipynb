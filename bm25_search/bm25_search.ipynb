{
  "nbformat": 4,
  "nbformat_minor": 0,
  "metadata": {
    "kernelspec": {
      "name": "python3",
      "display_name": "Python 3"
    },
    "language_info": {
      "codemirror_mode": {
        "name": "ipython",
        "version": 3
      },
      "file_extension": ".py",
      "mimetype": "text/x-python",
      "name": "python",
      "nbconvert_exporter": "python",
      "pygments_lexer": "ipython3",
      "version": "3.6.8"
    },
    "colab": {
      "name": "bm25_search.ipynb",
      "provenance": [],
      "collapsed_sections": [],
      "machine_shape": "hm"
    },
    "accelerator": "GPU"
  },
  "cells": [
    {
      "cell_type": "code",
      "metadata": {
        "id": "VSu7p2QYwFJf",
        "colab_type": "code",
        "colab": {}
      },
      "source": [
        "from IPython.display import clear_output"
      ],
      "execution_count": 0,
      "outputs": []
    },
    {
      "cell_type": "code",
      "metadata": {
        "id": "bl9hhawQweCR",
        "colab_type": "code",
        "colab": {}
      },
      "source": [
        "!pip3 install pycodestyle flake8 pycodestyle_magic\n",
        "!pip3 install pymorphy2[fast]\n",
        "clear_output()"
      ],
      "execution_count": 0,
      "outputs": []
    },
    {
      "cell_type": "code",
      "metadata": {
        "id": "zYGS5m6awi_M",
        "colab_type": "code",
        "colab": {}
      },
      "source": [
        "%load_ext pycodestyle_magic"
      ],
      "execution_count": 0,
      "outputs": []
    },
    {
      "cell_type": "markdown",
      "metadata": {
        "id": "yPBhRBf3vJ95",
        "colab_type": "text"
      },
      "source": [
        "## Лекция 2  BM5    "
      ]
    },
    {
      "cell_type": "markdown",
      "metadata": {
        "id": "j0ngdd5dvJ-D",
        "colab_type": "text"
      },
      "source": [
        "## Функция ранжирования bm25"
      ]
    },
    {
      "cell_type": "markdown",
      "metadata": {
        "id": "Ui8Pslf-vJ-J",
        "colab_type": "text"
      },
      "source": [
        "Для обратного индекса есть общепринятая формула для ранжирования *Okapi best match 25* ([Okapi BM25](https://ru.wikipedia.org/wiki/Okapi_BM25)).    \n",
        "Пусть дан запрос $Q$, содержащий слова  $q_1, ... , q_n$, тогда функция BM25 даёт следующую оценку релевантности документа $D$ запросу $Q$:\n",
        "\n",
        "$$ score(D, Q) = \\sum_{i}^{n} \\text{IDF}(q_i)*\\frac{TF(q_i,D)*(k+1)}{TF(q_i,D)+k(1-b+b\\frac{l(d)}{avgdl})} $$ \n",
        "где   \n",
        ">$TF(q_i,D)$ - частота слова $q_i$ в документе $D$      \n",
        "$l(d)$ - длина документа (количество слов в нём)   \n",
        "*avgdl* — средняя длина документа в коллекции    \n",
        "$k$ и $b$ — свободные коэффициенты, обычно их выбирают как $k$=2.0 и $b$=0.75   \n",
        "$$$$\n",
        "$\\text{IDF}(q_i)$ - это модернизированная версия IDF: \n",
        "$$\\text{IDF}(q_i) = \\log\\frac{N-n(q_i)+0.5}{n(q_i)+0.5},$$\n",
        ">> где $N$ - общее количество документов в коллекции   \n",
        "$n(q_i)$ — количество документов, содержащих $q_i$"
      ]
    },
    {
      "cell_type": "code",
      "metadata": {
        "id": "13HoSb3u8Vc1",
        "colab_type": "code",
        "colab": {}
      },
      "source": [
        "import pickle\n",
        "import pandas as pd\n",
        "import numpy as np\n",
        "from collections import Counter\n",
        "from collections import defaultdict\n",
        "from scipy.sparse import csr_matrix\n",
        "from pymorphy2 import MorphAnalyzer\n",
        "from pymorphy2.tokenizers import simple_word_tokenize\n",
        "from sklearn.feature_extraction.text import CountVectorizer"
      ],
      "execution_count": 0,
      "outputs": []
    },
    {
      "cell_type": "code",
      "metadata": {
        "id": "Np7OCJGTvJ-Q",
        "colab_type": "code",
        "colab": {}
      },
      "source": [
        "### реализуйте эту функцию ранжирования\n",
        "\n",
        "k = 2.0\n",
        "b = 0.75\n",
        "\n",
        "\n",
        "def tf(term, document) -> float:\n",
        "    return float(document.count(term))\n",
        "\n",
        "\n",
        "def avgdl(collection) -> float:\n",
        "    return np.mean(list(map(len, collection)))\n",
        "\n",
        "\n",
        "def idf(term, collection) -> float:\n",
        "    n_q = sum([1 for i in range(len(collection)) if term in collection[i]])\n",
        "    return np.log((len(collection) - n_q + 0.5) / (n_q + 0.5))\n",
        "\n",
        "\n",
        "def bm25(collection, document, query) -> float:\n",
        "    return sum([idf(term, collection) * (tf(term, document) * (k + 1)) /\n",
        "                (tf(term, document) + k * (1 - b + b *\n",
        "                                           (len(document)) /\n",
        "                                           (avgdl(collection))))\n",
        "                for term in query])"
      ],
      "execution_count": 0,
      "outputs": []
    },
    {
      "cell_type": "markdown",
      "metadata": {
        "id": "foBHKCjAvJ-n",
        "colab_type": "text"
      },
      "source": [
        "### __Задача 1__:    \n",
        "Напишите два поисковика на *BM25*. Один через подсчет метрики по формуле для каждой пары слово-документ, второй через умножение матрицы на вектор. \n",
        "\n",
        "Сравните время работы поиска на 100к запросах. В качестве корпуса возьмем \n",
        "[Quora question pairs](https://www.kaggle.com/loopdigga/quora-question-pairs-russian)."
      ]
    },
    {
      "cell_type": "code",
      "metadata": {
        "id": "Ya-_lHuiKSnm",
        "colab_type": "code",
        "colab": {}
      },
      "source": [
        "!wget https://www.dropbox.com/s/cfjv7galp6ajyr0/quora_question_pairs_rus.csv?dl=0 -O quora_question_pairs_rus.csv\n",
        "clear_output()"
      ],
      "execution_count": 0,
      "outputs": []
    },
    {
      "cell_type": "code",
      "metadata": {
        "id": "3hZO-PZ4Nbjd",
        "colab_type": "code",
        "outputId": "0f6c6a6c-aced-42b4-83a8-81d92b5c29a5",
        "colab": {
          "base_uri": "https://localhost:8080/",
          "height": 204
        }
      },
      "source": [
        "df = pd.read_csv(\"quora_question_pairs_rus.csv\")\n",
        "df = df.dropna()\n",
        "df.head()"
      ],
      "execution_count": 6,
      "outputs": [
        {
          "output_type": "execute_result",
          "data": {
            "text/html": [
              "<div>\n",
              "<style scoped>\n",
              "    .dataframe tbody tr th:only-of-type {\n",
              "        vertical-align: middle;\n",
              "    }\n",
              "\n",
              "    .dataframe tbody tr th {\n",
              "        vertical-align: top;\n",
              "    }\n",
              "\n",
              "    .dataframe thead th {\n",
              "        text-align: right;\n",
              "    }\n",
              "</style>\n",
              "<table border=\"1\" class=\"dataframe\">\n",
              "  <thead>\n",
              "    <tr style=\"text-align: right;\">\n",
              "      <th></th>\n",
              "      <th>Unnamed: 0</th>\n",
              "      <th>question1</th>\n",
              "      <th>question2</th>\n",
              "      <th>is_duplicate</th>\n",
              "    </tr>\n",
              "  </thead>\n",
              "  <tbody>\n",
              "    <tr>\n",
              "      <th>0</th>\n",
              "      <td>0</td>\n",
              "      <td>Какова история кохинор кох-и-ноор-бриллиант</td>\n",
              "      <td>что произойдет, если правительство Индии украд...</td>\n",
              "      <td>0</td>\n",
              "    </tr>\n",
              "    <tr>\n",
              "      <th>1</th>\n",
              "      <td>1</td>\n",
              "      <td>как я могу увеличить скорость моего интернет-с...</td>\n",
              "      <td>как повысить скорость интернета путем взлома ч...</td>\n",
              "      <td>0</td>\n",
              "    </tr>\n",
              "    <tr>\n",
              "      <th>2</th>\n",
              "      <td>2</td>\n",
              "      <td>почему я мысленно очень одинок, как я могу это...</td>\n",
              "      <td>найти остаток, когда математика 23 ^ 24 матема...</td>\n",
              "      <td>0</td>\n",
              "    </tr>\n",
              "    <tr>\n",
              "      <th>3</th>\n",
              "      <td>3</td>\n",
              "      <td>которые растворяют в воде быстро сахарную соль...</td>\n",
              "      <td>какая рыба выживет в соленой воде</td>\n",
              "      <td>0</td>\n",
              "    </tr>\n",
              "    <tr>\n",
              "      <th>4</th>\n",
              "      <td>4</td>\n",
              "      <td>астрология: я - луна-колпачок из козерога и кр...</td>\n",
              "      <td>Я тройная луна-козерог и восхождение в козерог...</td>\n",
              "      <td>1</td>\n",
              "    </tr>\n",
              "  </tbody>\n",
              "</table>\n",
              "</div>"
            ],
            "text/plain": [
              "   Unnamed: 0  ... is_duplicate\n",
              "0           0  ...            0\n",
              "1           1  ...            0\n",
              "2           2  ...            0\n",
              "3           3  ...            0\n",
              "4           4  ...            1\n",
              "\n",
              "[5 rows x 4 columns]"
            ]
          },
          "metadata": {
            "tags": []
          },
          "execution_count": 6
        }
      ]
    },
    {
      "cell_type": "code",
      "metadata": {
        "id": "1mkFLmdaiLrd",
        "colab_type": "code",
        "colab": {
          "base_uri": "https://localhost:8080/",
          "height": 34
        },
        "outputId": "c6cc7b33-1ae7-4abe-9c67-5d5b13808b77"
      },
      "source": [
        "df.shape"
      ],
      "execution_count": 7,
      "outputs": [
        {
          "output_type": "execute_result",
          "data": {
            "text/plain": [
              "(404267, 4)"
            ]
          },
          "metadata": {
            "tags": []
          },
          "execution_count": 7
        }
      ]
    },
    {
      "cell_type": "code",
      "metadata": {
        "id": "hPFWLTWe1CW6",
        "colab_type": "code",
        "colab": {}
      },
      "source": [
        "queries = list(set(df[\"question1\"]))\n",
        "query_idx = {queries[i]: i for i in range(len(queries))}\n",
        "docs = list(set(df[\"question2\"]))\n",
        "doc_idx = {docs[i]: i for i in range(len(docs))}"
      ],
      "execution_count": 0,
      "outputs": []
    },
    {
      "cell_type": "code",
      "metadata": {
        "id": "RgGdXHf1QTSD",
        "colab_type": "code",
        "colab": {}
      },
      "source": [
        "df_dup = df[df[\"is_duplicate\"] == 1]\n",
        "row_ind = df_dup[\"question1\"].apply(lambda x: query_idx[x])\n",
        "col_ind = df_dup[\"question2\"].apply(lambda x: doc_idx[x])\n",
        "dup_matrix = csr_matrix((np.ones(df_dup.shape[0]), (row_ind, col_ind)),\n",
        "                        shape=(len(query_idx), len(doc_idx)))"
      ],
      "execution_count": 0,
      "outputs": []
    },
    {
      "cell_type": "code",
      "metadata": {
        "id": "7jeX8vq3a3ED",
        "colab_type": "code",
        "colab": {}
      },
      "source": [
        "m = MorphAnalyzer()\n",
        "\n",
        "\n",
        "def lemmatize(text):\n",
        "    return [m.parse(word)[0].normal_form \n",
        "            for word in simple_word_tokenize(text)]"
      ],
      "execution_count": 0,
      "outputs": []
    },
    {
      "cell_type": "code",
      "metadata": {
        "id": "4JooN8tmDDBH",
        "colab_type": "code",
        "colab": {}
      },
      "source": [
        "class SearchEngineBM25():\n",
        "    def __init__(self, data, b=0.75, k=2):\n",
        "        self.texts = np.array(data)\n",
        "        self.b = b\n",
        "        self.k = k\n",
        "        self.vectorizer = CountVectorizer(tokenizer=lemmatize)\n",
        "        tf = self.vectorizer.fit_transform(self.texts)\n",
        "        N = (tf.getnnz(axis=1)).sum()\n",
        "        lens = np.array(tf.sum(axis=0))[0]\n",
        "        self.avgdl = lens.mean()\n",
        "        lens_rel = np.array([lens[x] / self.avgdl for x in tf.nonzero()[1]])\n",
        "        idf = np.array([np.log((N - y + 0.5) / (y + 0.5))\n",
        "                        for y in tf.nonzero()[0]])\n",
        "        bm25 = idf * tf.data * (k + 1) / (tf.data + k * (1 - b + b * lens_rel))\n",
        "        self.matrix = csr_matrix((bm25, tf.indices, tf.indptr), shape=tf.shape)\n",
        "        self.matrix = self.matrix.transpose(copy=True)\n",
        "        self.tf = []\n",
        "        df = defaultdict(int)\n",
        "        for text in self.texts:\n",
        "            self.tf.append(Counter(lemmatize(text)))\n",
        "            for word in set(lemmatize(text)):\n",
        "                df[word] += 1\n",
        "        self.idf = {key: np.log((N - val + 0.5) / (val + 0.5))\n",
        "                    for key, val in df.items()}\n",
        "\n",
        "    def search_naive(self, query, n=5):\n",
        "        query = lemmatize(query)\n",
        "        result = []\n",
        "        for document in self.tf:\n",
        "            score = 0\n",
        "            for word in query:\n",
        "                if word in document:\n",
        "                    score += self.idf[word] * document[word] * (self.k + 1) / \\\n",
        "                             (document[word] + self.k * (1 - self.b + self.b *\n",
        "                                                         len(document) /\n",
        "                                                         self.avgdl))\n",
        "            result.append(score)\n",
        "        return sorted(list(zip(self.texts, result)),\n",
        "                      key=lambda x: x[1], reverse=True)[:n]\n",
        "\n",
        "    def search_matmul(self, query, n=5):\n",
        "        query_vec = self.vectorizer.transform([query])\n",
        "        result = np.array((query_vec * self.matrix).todense())[0]\n",
        "        indices = np.argsort(result)[::-1].tolist()[:n]\n",
        "        return list(zip(self.texts[indices], result[indices]))"
      ],
      "execution_count": 0,
      "outputs": []
    },
    {
      "cell_type": "code",
      "metadata": {
        "id": "WFmrzqunmNZ2",
        "colab_type": "code",
        "colab": {}
      },
      "source": [
        "BMSearchEngine = SearchEngineBM25(docs)"
      ],
      "execution_count": 0,
      "outputs": []
    },
    {
      "cell_type": "code",
      "metadata": {
        "id": "SroFCpAAh2eT",
        "colab_type": "code",
        "colab": {
          "base_uri": "https://localhost:8080/",
          "height": 51
        },
        "outputId": "ae3369b7-55c3-4349-c92d-cd2a6df6097a"
      },
      "source": [
        "%%time\n",
        "for query in np.random.choice(np.array(list(df[\"question1\"])), size=100):\n",
        "    result = BMSearchEngine.search_naive(query)"
      ],
      "execution_count": 13,
      "outputs": [
        {
          "output_type": "stream",
          "text": [
            "CPU times: user 4min 6s, sys: 4.38 s, total: 4min 11s\n",
            "Wall time: 4min 11s\n"
          ],
          "name": "stdout"
        }
      ]
    },
    {
      "cell_type": "markdown",
      "metadata": {
        "id": "wNJVMpGz6qWm",
        "colab_type": "text"
      },
      "source": [
        "100 запросов обработалось за ≈4 минут, следовательно, 100k запросов обработаются за ≈4000 минут, или ≈67 часов, или ≈3 дня. <br>\n",
        "Долго."
      ]
    },
    {
      "cell_type": "code",
      "metadata": {
        "id": "1rSe04OU73j1",
        "colab_type": "code",
        "colab": {
          "base_uri": "https://localhost:8080/",
          "height": 51
        },
        "outputId": "3b99e7a7-361e-4906-c36a-3008570120d4"
      },
      "source": [
        "%%time\n",
        "for query in np.random.choice(np.array(list(df[\"question1\"])), size=100):\n",
        "    result = BMSearchEngine.search_matmul(query)"
      ],
      "execution_count": 14,
      "outputs": [
        {
          "output_type": "stream",
          "text": [
            "CPU times: user 14.2 s, sys: 44.9 ms, total: 14.2 s\n",
            "Wall time: 14.2 s\n"
          ],
          "name": "stdout"
        }
      ]
    },
    {
      "cell_type": "markdown",
      "metadata": {
        "id": "l51Qg1xr91DE",
        "colab_type": "text"
      },
      "source": [
        "100 запросов обработались за ≈14 секунд, следовательно, 100k запросов обработаются за 14000 секунд, или ≈233 минуты, или ≈4 часа. Уже лучше."
      ]
    },
    {
      "cell_type": "markdown",
      "metadata": {
        "id": "CfoXTMxM-dZM",
        "colab_type": "text"
      },
      "source": [
        "Умножать матрицу на вектор получается в 17 раз быстрее!"
      ]
    },
    {
      "cell_type": "markdown",
      "metadata": {
        "id": "7EwMPenWvJ-u",
        "colab_type": "text"
      },
      "source": [
        "### __Задача 2__:    \n",
        "\n"
      ]
    },
    {
      "cell_type": "markdown",
      "metadata": {
        "id": "KBfc5Bd9vJ-0",
        "colab_type": "text"
      },
      "source": [
        "Выведите 10 первых результатов и их близость по метрике BM25 по запросу **рождественские каникулы** на нашем корпусе  Quora question pairs. "
      ]
    },
    {
      "cell_type": "code",
      "metadata": {
        "id": "4m-2keNt-4PX",
        "colab_type": "code",
        "colab": {
          "base_uri": "https://localhost:8080/",
          "height": 187
        },
        "outputId": "57bd7b77-9300-4427-9168-aff1da66c8fd"
      },
      "source": [
        "for result in BMSearchEngine.search_matmul(\"рождественские каникулы\", n=10):\n",
        "    print(result)"
      ],
      "execution_count": 15,
      "outputs": [
        {
          "output_type": "stream",
          "text": [
            "('я в колледже в Индии, могу ли я пойти к филиппинам для своих каникул или после того, как я окончу то, что будет требовать', 8.144191196257989)\n",
            "('какое лучшее место для посещения во время рождественских каникул из Лондона на 3 - 4 дня для одного путешественника', 6.1509582104618605)\n",
            "('как насчет летних и зимних каникул в махиндрах эко-хайдарабад', 5.599050265719071)\n",
            "('каковы некоторые советы по его проведению через процесс собеседования на вакансиях во время каникул marriott по всему миру', 4.752640874140093)\n",
            "('где лучше всего путешествовать во время каникул', 4.70871951186195)\n",
            "('как долго проходят рождественские каникулы для университетов в Новой Зеландии', 4.3659420310625)\n",
            "('какие лучшие вещи делать в летние каникулы', 4.3290825021024375)\n",
            "('какие рождественские традиции вы и ваша семья имеете на рождественский вечер и рождественский день', 4.314214516048478)\n",
            "('что самое лучшее, что может сделать студент-механик во время летних каникул, может ли он сделать что-то продуктивное', 4.277950711516091)\n",
            "('вы когда-нибудь случайно дали кому-то неправильный рождественский подарок с неловкими или смешными последствиями', 4.20337554986157)\n"
          ],
          "name": "stdout"
        }
      ]
    },
    {
      "cell_type": "markdown",
      "metadata": {
        "id": "jv74q5LgvJ-1",
        "colab_type": "text"
      },
      "source": [
        "### __Задача 3__:    \n",
        "\n",
        "Посчитайте точность поиска при \n",
        "1. BM25, b=0.75 \n",
        "2. BM15, b=0 \n",
        "3. BM11, b=1"
      ]
    },
    {
      "cell_type": "code",
      "metadata": {
        "id": "a1RoGKvPD1ic",
        "colab_type": "code",
        "colab": {}
      },
      "source": [
        "def accuracy(search_engine, queries, dup_matrix, test_size=10000):\n",
        "    true_results = 0\n",
        "    all_results = 0\n",
        "    test = np.random.choice(queries, size=test_size)\n",
        "    for query in test:\n",
        "        if dup_matrix[query_idx[query], ].sum():\n",
        "            all_results += 1\n",
        "            results = search_engine.search_matmul(query)\n",
        "            for result, score in results:\n",
        "                if dup_matrix[query_idx[query], doc_idx[result]]:\n",
        "                    true_results += 1\n",
        "                    break\n",
        "    return true_results / all_results"
      ],
      "execution_count": 0,
      "outputs": []
    },
    {
      "cell_type": "markdown",
      "metadata": {
        "id": "0Fu7mK4ZMJ5S",
        "colab_type": "text"
      },
      "source": [
        "b = 0.75"
      ]
    },
    {
      "cell_type": "code",
      "metadata": {
        "id": "4IL3BR8yL1I6",
        "colab_type": "code",
        "colab": {
          "base_uri": "https://localhost:8080/",
          "height": 34
        },
        "outputId": "712dc192-1b18-48e5-b413-7b681c211838"
      },
      "source": [
        "accuracy(BMSearchEngine, queries, dup_matrix)"
      ],
      "execution_count": 17,
      "outputs": [
        {
          "output_type": "execute_result",
          "data": {
            "text/plain": [
              "0.2720812182741117"
            ]
          },
          "metadata": {
            "tags": []
          },
          "execution_count": 17
        }
      ]
    },
    {
      "cell_type": "markdown",
      "metadata": {
        "id": "_ZRjId4xijXZ",
        "colab_type": "text"
      },
      "source": [
        "b = 0"
      ]
    },
    {
      "cell_type": "code",
      "metadata": {
        "id": "Ooy1q64FMbim",
        "colab_type": "code",
        "colab": {}
      },
      "source": [
        "BMSearchEngine15 = SearchEngineBM25(docs, b=0.0)"
      ],
      "execution_count": 0,
      "outputs": []
    },
    {
      "cell_type": "code",
      "metadata": {
        "id": "BAPAd3OBisyG",
        "colab_type": "code",
        "colab": {
          "base_uri": "https://localhost:8080/",
          "height": 34
        },
        "outputId": "8feb1eb0-60d1-43a0-f01f-5026e4e1acd5"
      },
      "source": [
        "accuracy(BMSearchEngine15, queries, dup_matrix)"
      ],
      "execution_count": 19,
      "outputs": [
        {
          "output_type": "execute_result",
          "data": {
            "text/plain": [
              "0.058546433378196504"
            ]
          },
          "metadata": {
            "tags": []
          },
          "execution_count": 19
        }
      ]
    },
    {
      "cell_type": "code",
      "metadata": {
        "id": "VtErXsXhj1l1",
        "colab_type": "code",
        "colab": {}
      },
      "source": [
        "BMSearchEngine11 = SearchEngineBM25(docs, b=1.0)"
      ],
      "execution_count": 0,
      "outputs": []
    },
    {
      "cell_type": "code",
      "metadata": {
        "id": "uuPQDtELlh5h",
        "colab_type": "code",
        "colab": {
          "base_uri": "https://localhost:8080/",
          "height": 34
        },
        "outputId": "ae8034d1-b475-428c-9aac-eff1a60bc634"
      },
      "source": [
        "accuracy(BMSearchEngine11, queries, dup_matrix)"
      ],
      "execution_count": 21,
      "outputs": [
        {
          "output_type": "execute_result",
          "data": {
            "text/plain": [
              "0.24966442953020135"
            ]
          },
          "metadata": {
            "tags": []
          },
          "execution_count": 21
        }
      ]
    },
    {
      "cell_type": "markdown",
      "metadata": {
        "id": "x54FD6WCphCa",
        "colab_type": "text"
      },
      "source": [
        "Наилучшее (в 2 раза лучше!) качество поиска достигается при b = 0."
      ]
    },
    {
      "cell_type": "code",
      "metadata": {
        "id": "Pmc3APpwnt0L",
        "colab_type": "code",
        "colab": {}
      },
      "source": [
        "with open(\"BMSearchEngine.pkl\", \"wb\") as file:\n",
        "    pickle.dump(BMSearchEngine, file)"
      ],
      "execution_count": 0,
      "outputs": []
    },
    {
      "cell_type": "code",
      "metadata": {
        "id": "EyfNZ-slqRqd",
        "colab_type": "code",
        "colab": {}
      },
      "source": [
        "from google import colab\n",
        "colab.files.download(\"BMSearchEngine.pkl\")\n",
        "clear_output()"
      ],
      "execution_count": 0,
      "outputs": []
    },
    {
      "cell_type": "code",
      "metadata": {
        "id": "Y1DQXH8gq3Mn",
        "colab_type": "code",
        "colab": {}
      },
      "source": [
        ""
      ],
      "execution_count": 0,
      "outputs": []
    }
  ]
}