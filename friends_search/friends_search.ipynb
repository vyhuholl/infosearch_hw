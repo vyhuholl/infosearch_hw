{
  "nbformat": 4,
  "nbformat_minor": 0,
  "metadata": {
    "kernelspec": {
      "name": "python3",
      "display_name": "Python 3"
    },
    "language_info": {
      "codemirror_mode": {
        "name": "ipython",
        "version": 3
      },
      "file_extension": ".py",
      "mimetype": "text/x-python",
      "name": "python",
      "nbconvert_exporter": "python",
      "pygments_lexer": "ipython3",
      "version": "3.6.8"
    },
    "colab": {
      "name": "friends_search.ipynb",
      "provenance": [],
      "collapsed_sections": []
    },
    "accelerator": "GPU"
  },
  "cells": [
    {
      "cell_type": "code",
      "metadata": {
        "id": "iQ2iyYfP1ZBC",
        "colab_type": "code",
        "colab": {}
      },
      "source": [
        "from IPython.display import clear_output"
      ],
      "execution_count": 0,
      "outputs": []
    },
    {
      "cell_type": "markdown",
      "metadata": {
        "id": "iBWV31w3yfh2",
        "colab_type": "text"
      },
      "source": [
        "## Семинар 1 Индекс\n",
        "\n",
        "## Intro"
      ]
    },
    {
      "cell_type": "code",
      "metadata": {
        "id": "Nqh0-qlJz8OF",
        "colab_type": "code",
        "colab": {}
      },
      "source": [
        "!pip3 install pycodestyle flake8 pycodestyle_magic\n",
        "!pip3 install pymorphy2[fast]\n",
        "clear_output()"
      ],
      "execution_count": 0,
      "outputs": []
    },
    {
      "cell_type": "code",
      "metadata": {
        "id": "UgP6ySIv1zgR",
        "colab_type": "code",
        "colab": {}
      },
      "source": [
        "%load_ext pycodestyle_magic"
      ],
      "execution_count": 0,
      "outputs": []
    },
    {
      "cell_type": "code",
      "metadata": {
        "id": "gJNz-9mJy4CK",
        "colab_type": "code",
        "outputId": "fe7eda14-fd93-408a-f5fa-1272e46770ba",
        "colab": {
          "resources": {
            "http://localhost:8080/nbextensions/google.colab/files.js": {
              "data": "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",
              "ok": true,
              "headers": [
                [
                  "content-type",
                  "application/javascript"
                ]
              ],
              "status": 200,
              "status_text": ""
            }
          },
          "base_uri": "https://localhost:8080/",
          "height": 92
        }
      },
      "source": [
        "from google import colab\n",
        "colab.files.upload()"
      ],
      "execution_count": 4,
      "outputs": [
        {
          "output_type": "display_data",
          "data": {
            "text/html": [
              "\n",
              "     <input type=\"file\" id=\"files-dc71a360-8be7-4a5d-9e3d-4e9f849079bc\" name=\"files[]\" multiple disabled />\n",
              "     <output id=\"result-dc71a360-8be7-4a5d-9e3d-4e9f849079bc\">\n",
              "      Upload widget is only available when the cell has been executed in the\n",
              "      current browser session. Please rerun this cell to enable.\n",
              "      </output>\n",
              "      <script src=\"/nbextensions/google.colab/files.js\"></script> "
            ],
            "text/plain": [
              "<IPython.core.display.HTML object>"
            ]
          },
          "metadata": {
            "tags": []
          }
        },
        {
          "output_type": "stream",
          "text": [
            "Saving test.txt to test.txt\n"
          ],
          "name": "stdout"
        },
        {
          "output_type": "execute_result",
          "data": {
            "text/plain": [
              "{'test.txt': b'Hello world'}"
            ]
          },
          "metadata": {
            "tags": []
          },
          "execution_count": 4
        }
      ]
    },
    {
      "cell_type": "markdown",
      "metadata": {
        "id": "XDDifELlyfh7",
        "colab_type": "text"
      },
      "source": [
        "### работа с файлами и папками"
      ]
    },
    {
      "cell_type": "code",
      "metadata": {
        "id": "DVyvAdQ3yfh_",
        "colab_type": "code",
        "colab": {}
      },
      "source": [
        "import os\n",
        "\n",
        "curr_dir = os.getcwd()\n",
        "filepath = os.path.join(curr_dir, 'test.txt')"
      ],
      "execution_count": 0,
      "outputs": []
    },
    {
      "cell_type": "markdown",
      "metadata": {
        "id": "WxxD20HiyfiK",
        "colab_type": "text"
      },
      "source": [
        "### os.path  \n",
        "путь до файла"
      ]
    },
    {
      "cell_type": "code",
      "metadata": {
        "id": "ZRkLMTXQyfiO",
        "colab_type": "code",
        "outputId": "218f9c3c-dcd1-4a9e-8cf7-3dc00001225b",
        "colab": {
          "base_uri": "https://localhost:8080/",
          "height": 68
        }
      },
      "source": [
        "# возвращает полный путь до папки/файла по имени файла / папки\n",
        "print(os.path.abspath(filepath))\n",
        "\n",
        "\n",
        "# возвращает имя файла / папки по полному ти до него\n",
        "print(os.path.basename(filepath))\n",
        "\n",
        "\n",
        "# проверить существование директории - True / False\n",
        "print(os.path.exists(curr_dir))"
      ],
      "execution_count": 6,
      "outputs": [
        {
          "output_type": "stream",
          "text": [
            "/content/test.txt\n",
            "test.txt\n",
            "True\n"
          ],
          "name": "stdout"
        }
      ]
    },
    {
      "cell_type": "markdown",
      "metadata": {
        "id": "UiC48uS8yfiW",
        "colab_type": "text"
      },
      "source": [
        "### os.listdir  \n",
        "возвращает список файлов в данной директории"
      ]
    },
    {
      "cell_type": "code",
      "metadata": {
        "id": "w23rjtfLyfiY",
        "colab_type": "code",
        "outputId": "acee76ca-dc45-4444-f545-acc00742dc4f",
        "colab": {
          "base_uri": "https://localhost:8080/",
          "height": 34
        }
      },
      "source": [
        "os.listdir(curr_dir)"
      ],
      "execution_count": 7,
      "outputs": [
        {
          "output_type": "execute_result",
          "data": {
            "text/plain": [
              "['.config', 'test.txt', 'sample_data']"
            ]
          },
          "metadata": {
            "tags": []
          },
          "execution_count": 7
        }
      ]
    },
    {
      "cell_type": "markdown",
      "metadata": {
        "id": "8IydNvZQyfib",
        "colab_type": "text"
      },
      "source": [
        "При обходе файлов не забывайте исключать системные директории, такие как .DS_Store"
      ]
    },
    {
      "cell_type": "markdown",
      "metadata": {
        "id": "Rh-iHRjcyfic",
        "colab_type": "text"
      },
      "source": [
        "### os.walk\n",
        "root - начальная директория  \n",
        "dirs - список поддиректорий (папок)   \n",
        "files - список файлов в этих поддиректориях  "
      ]
    },
    {
      "cell_type": "code",
      "metadata": {
        "id": "WJE-iKftyfid",
        "colab_type": "code",
        "outputId": "a5db6c76-eace-457f-97a3-512b21517163",
        "colab": {
          "base_uri": "https://localhost:8080/",
          "height": 323
        }
      },
      "source": [
        "for root, dirs, files in os.walk(curr_dir):\n",
        "    for name in files:\n",
        "        print(os.path.join(root, name))"
      ],
      "execution_count": 8,
      "outputs": [
        {
          "output_type": "stream",
          "text": [
            "/content/test.txt\n",
            "/content/.config/active_config\n",
            "/content/.config/.last_update_check.json\n",
            "/content/.config/gce\n",
            "/content/.config/config_sentinel\n",
            "/content/.config/.metricsUUID\n",
            "/content/.config/configurations/config_default\n",
            "/content/.config/logs/2019.08.27/16.17.17.407104.log\n",
            "/content/.config/logs/2019.08.27/16.17.21.663235.log\n",
            "/content/.config/logs/2019.08.27/16.17.07.367707.log\n",
            "/content/.config/logs/2019.08.27/16.17.00.530950.log\n",
            "/content/.config/logs/2019.08.27/16.17.22.686467.log\n",
            "/content/sample_data/README.md\n",
            "/content/sample_data/anscombe.json\n",
            "/content/sample_data/mnist_train_small.csv\n",
            "/content/sample_data/mnist_test.csv\n",
            "/content/sample_data/california_housing_train.csv\n",
            "/content/sample_data/california_housing_test.csv\n"
          ],
          "name": "stdout"
        }
      ]
    },
    {
      "cell_type": "markdown",
      "metadata": {
        "id": "9aNird3ryfij",
        "colab_type": "text"
      },
      "source": [
        "> __os.walk__ возвращает генератор, это значит, что получить его элементы можно только проитерировавшись по нему  \n",
        "но его легко можно превратить в list и увидеть все его значения"
      ]
    },
    {
      "cell_type": "code",
      "metadata": {
        "id": "TZKxgJ-Syfil",
        "colab_type": "code",
        "outputId": "6c6930b2-a72d-4f09-b045-b7aa2230f820",
        "colab": {
          "base_uri": "https://localhost:8080/",
          "height": 442
        }
      },
      "source": [
        "list(os.walk(curr_dir))"
      ],
      "execution_count": 9,
      "outputs": [
        {
          "output_type": "execute_result",
          "data": {
            "text/plain": [
              "[('/content', ['.config', 'sample_data'], ['test.txt']),\n",
              " ('/content/.config',\n",
              "  ['configurations', 'logs'],\n",
              "  ['active_config',\n",
              "   '.last_update_check.json',\n",
              "   'gce',\n",
              "   'config_sentinel',\n",
              "   '.metricsUUID']),\n",
              " ('/content/.config/configurations', [], ['config_default']),\n",
              " ('/content/.config/logs', ['2019.08.27'], []),\n",
              " ('/content/.config/logs/2019.08.27',\n",
              "  [],\n",
              "  ['16.17.17.407104.log',\n",
              "   '16.17.21.663235.log',\n",
              "   '16.17.07.367707.log',\n",
              "   '16.17.00.530950.log',\n",
              "   '16.17.22.686467.log']),\n",
              " ('/content/sample_data',\n",
              "  [],\n",
              "  ['README.md',\n",
              "   'anscombe.json',\n",
              "   'mnist_train_small.csv',\n",
              "   'mnist_test.csv',\n",
              "   'california_housing_train.csv',\n",
              "   'california_housing_test.csv'])]"
            ]
          },
          "metadata": {
            "tags": []
          },
          "execution_count": 9
        }
      ]
    },
    {
      "cell_type": "markdown",
      "metadata": {
        "id": "BLBmXqK5yfip",
        "colab_type": "text"
      },
      "source": [
        "### чтение файла "
      ]
    },
    {
      "cell_type": "markdown",
      "metadata": {
        "id": "a145rMxVyfis",
        "colab_type": "text"
      },
      "source": [
        "  "
      ]
    },
    {
      "cell_type": "code",
      "metadata": {
        "id": "0W2Iuuuqyfiu",
        "colab_type": "code",
        "colab": {}
      },
      "source": [
        "filepath = 'test.txt'\n",
        "\n",
        "\n",
        "# одним массивом  \n",
        "with open(filepath, 'r') as f:  \n",
        "    text = f.read() \n",
        "\n",
        "    \n",
        "#по строкам, в конце каждой строки \\n  \n",
        "with open(filepath, 'r') as f:   \n",
        "    text = f.readlines() \n",
        "\n",
        "    \n",
        "#по строкам, без \\n   \n",
        "with open(filepath, 'r') as f:   \n",
        "    text = f.read().splitlines() "
      ],
      "execution_count": 0,
      "outputs": []
    },
    {
      "cell_type": "markdown",
      "metadata": {
        "id": "xTN_vqM1yfix",
        "colab_type": "text"
      },
      "source": [
        "Напоминание про enumerate:    \n",
        "> При итерации по списку вы можете помимо самого элемента получить его порядковый номер    \n",
        "``` for i, element in enumerate(your_list): ...  ```    \n",
        "Иногда для получения элемента делают так -  ``` your_list[i] ```, не надо так"
      ]
    },
    {
      "cell_type": "markdown",
      "metadata": {
        "id": "ArUrJK9Vyfiy",
        "colab_type": "text"
      },
      "source": [
        "##  Индекс \n",
        "\n",
        "Сам по себе индекс - это просто формат хранения данных, он не может осуществлять поиск. Для этого необходимо добавить к нему определенную метрику. Это может быть что-то простое типа булева поиска, а может быть что-то более специфическое или кастомное под задачу.\n",
        "\n",
        "Давайте посмотрим, что полезного можно вытащить из самого индекса.    \n",
        "По сути, индекс - это информация о частоте встречаемости слова в каждом документе.   \n",
        "Из этого можно понять, например:\n",
        "1. какое слово является самым часто употребимым / редким\n",
        "2. какие слова встречаются всегда вместе - так можно парсить твиттер, fb, форумы и отлавливать новые устойчивые выражения в речи\n",
        "3. как эти документы кластеризуются по N тематикам согласно словам, которые в них упоминаются "
      ]
    },
    {
      "cell_type": "markdown",
      "metadata": {
        "id": "fnl55Kv_yfiz",
        "colab_type": "text"
      },
      "source": [
        "## __Задача__: \n",
        "\n",
        "**Data:** Коллекция субтитров сезонов Друзьей. Одна серия - один документ.\n",
        "\n",
        "**To do:** Постройте небольшой модуль поискового движка, который сможет осуществлять поиск по коллекции документов.\n",
        "На входе запрос и проиндексированная коллекция (в том виде, как посчитаете нужным), на выходе отсортированный по релевантности с запросом список документов коллекции. \n",
        "\n",
        "Релизуйте:\n",
        "    - функцию препроцессинга данных\n",
        "    - функцию индексирования данных\n",
        "    - функцию метрики релевантности \n",
        "    - собственно, функцию поиска\n",
        "\n",
        "[download_friends_corpus](https://yadi.sk/d/yVO1QV98CDibpw)"
      ]
    },
    {
      "cell_type": "code",
      "metadata": {
        "id": "4SaKLYEh94sm",
        "colab_type": "code",
        "colab": {}
      },
      "source": [
        "!wget https://www.dropbox.com/s/yy50phca0ptp0jj/friends.zip?dl=0 -O friends.zip\n",
        "clear_output()"
      ],
      "execution_count": 0,
      "outputs": []
    },
    {
      "cell_type": "code",
      "metadata": {
        "id": "SQGRSwQc-Pbb",
        "colab_type": "code",
        "colab": {}
      },
      "source": [
        "!unzip friends.zip\n",
        "clear_output()"
      ],
      "execution_count": 0,
      "outputs": []
    },
    {
      "cell_type": "code",
      "metadata": {
        "id": "I_eq35aY-S8i",
        "colab_type": "code",
        "colab": {}
      },
      "source": [
        "!rm friends.zip\n",
        "clear_output()"
      ],
      "execution_count": 0,
      "outputs": []
    },
    {
      "cell_type": "code",
      "metadata": {
        "id": "6XflYPA9D8CX",
        "colab_type": "code",
        "colab": {}
      },
      "source": [
        "filepath = \"friends\""
      ],
      "execution_count": 0,
      "outputs": []
    },
    {
      "cell_type": "code",
      "metadata": {
        "id": "h9EFmVa9-iQr",
        "colab_type": "code",
        "colab": {}
      },
      "source": [
        "import re\n",
        "import sys\n",
        "import pickle\n",
        "from math import log\n",
        "from pymorphy2 import MorphAnalyzer\n",
        "from collections import Counter\n",
        "from collections import defaultdict\n",
        "from nltk.tokenize import RegexpTokenizer"
      ],
      "execution_count": 0,
      "outputs": []
    },
    {
      "cell_type": "code",
      "metadata": {
        "id": "XgfC-zsKGR6G",
        "colab_type": "code",
        "colab": {}
      },
      "source": [
        "pattern = r\"[а-яА-ЯёЁ]+\\-?[а-яА-ЯёЁ]*\"\n",
        "\n",
        "m = MorphAnalyzer()\n",
        "tokenizer = RegexpTokenizer(pattern)\n",
        "\n",
        "\n",
        "def lemmatize(text):\n",
        "    return ([m.parse(word)[0].normal_form\n",
        "            for word in tokenizer.tokenize(text)])"
      ],
      "execution_count": 0,
      "outputs": []
    },
    {
      "cell_type": "markdown",
      "metadata": {
        "id": "RyNCqHEQyfi0",
        "colab_type": "text"
      },
      "source": [
        "Напоминание про defaultdict: \n",
        "> В качестве multiple values словаря рекомендую использовать ``` collections.defaultdict ```                          \n",
        "> Так можно избежать конструкции ``` dict.setdefault(key, default=None) ```"
      ]
    },
    {
      "cell_type": "markdown",
      "metadata": {
        "id": "6-RuluWvEa0-",
        "colab_type": "text"
      },
      "source": [
        "###Result"
      ]
    },
    {
      "cell_type": "code",
      "metadata": {
        "id": "hyRKTBpJBn2l",
        "colab_type": "code",
        "colab": {}
      },
      "source": [
        "class SearchEngine():\n",
        "    def __init__(self, filepath):\n",
        "        self.texts = dict()\n",
        "        self.inv_index = defaultdict(list)\n",
        "        self.preprocess(filepath)\n",
        "        self.make_index()\n",
        "\n",
        "    def preprocess(self, filepath):\n",
        "        for root, dirs, files in os.walk(filepath):\n",
        "            for name in files:\n",
        "                with open(os.path.join(root, name), \"r\") as f:\n",
        "                    self.texts[name[:-4]] = lemmatize(f.read())\n",
        "\n",
        "    def make_index(self):\n",
        "        for name in self.texts:\n",
        "            for term in self.texts[name]:\n",
        "                if name not in self.inv_index[term]:\n",
        "                    self.inv_index[term].append(name)\n",
        "\n",
        "    def tf_idf(self, term, document):\n",
        "        tf = self.texts[document].count(term)\n",
        "        idf = log(len(self.texts) / len(self.inv_index[term]))\n",
        "        return tf * idf\n",
        "\n",
        "    def search(self, query):\n",
        "        result = defaultdict(float)\n",
        "        for term in lemmatize(query):\n",
        "            for document in self.inv_index[term]:\n",
        "                result[document] += self.tf_idf(term, document)\n",
        "        return [item[0] for item in\n",
        "                sorted(result.items(), key=lambda kv: -kv[1])]"
      ],
      "execution_count": 0,
      "outputs": []
    },
    {
      "cell_type": "code",
      "metadata": {
        "id": "PV2nRirQ7DzZ",
        "colab_type": "code",
        "colab": {}
      },
      "source": [
        "FriendsSearchEngine = SearchEngine(filepath)"
      ],
      "execution_count": 0,
      "outputs": []
    },
    {
      "cell_type": "code",
      "metadata": {
        "id": "69imVEBkyfi1",
        "colab_type": "code",
        "outputId": "53611dbc-9a55-455d-e68d-089daaef9062",
        "colab": {
          "base_uri": "https://localhost:8080/",
          "height": 34
        }
      },
      "source": [
        "# _check : в коллекции должно быть около 165 файлов\n",
        "len(FriendsSearchEngine.texts)"
      ],
      "execution_count": 21,
      "outputs": [
        {
          "output_type": "execute_result",
          "data": {
            "text/plain": [
              "165"
            ]
          },
          "metadata": {
            "tags": []
          },
          "execution_count": 21
        }
      ]
    },
    {
      "cell_type": "code",
      "metadata": {
        "id": "eQjC-HiLQfAD",
        "colab_type": "code",
        "outputId": "d76a964e-f0fb-45d0-ada1-b59a716ccb37",
        "colab": {
          "base_uri": "https://localhost:8080/",
          "height": 1000
        }
      },
      "source": [
        "for res in FriendsSearchEngine.search(\"\"\"Да нечего рассказывать!\n",
        "Он просто сотрудник!\"\"\"):\n",
        "    print(res)"
      ],
      "execution_count": 22,
      "outputs": [
        {
          "output_type": "stream",
          "text": [
            "Friends - 1x01 - The One Where Monica Gets A Roommate.ru\n",
            "Friends - 2x19 - The One Where Eddie Won't Go.ru\n",
            "Friends - 5x12 - The One With Chandler's Work Laugh.ru\n",
            "Friends - 7x03 - The One With Phoebe's Cookies.ru\n",
            "Friends - 3x01 - The One With The Princess Leia Fantasy.ru\n",
            "Friends - 4x20 - The One With The Wedding Dresses.ru\n",
            "Friends - 5x07 - The One Where Ross Moves In.ru\n",
            "Friends - 7x04 - The One With Rachel's Assistant.ru\n",
            "Friends - 6x11 - The One With The Apothecary Table.ru\n",
            "Friends - 2x23 - The One With The Chicken Pox.ru\n",
            "Friends - 7x07 - The One With Ross's Library Book.ru\n",
            "Friends - 1x16 - The One With Two Parts (1).ru\n",
            "Friends - 2x11 - The One With The Lesbian Wedding.ru\n",
            "Friends - 2x04 - The One With Phoebe's Husband.ru\n",
            "Friends - 2x05 - The One With Five Steaks And An Eggplant.ru\n",
            "Friends - 7x17 - The One With The Cheap Wedding Dress.ru\n",
            "Friends - 6x24 - The One With The Proposal (1).ru\n",
            "Friends - 3x10 - The One Where Rachel Quits.ru\n",
            "Friends - 3x18 - The One With The Hypnosis Tape.ru\n",
            "Friends - 7x05 - The One With The Engagement Picture.ru\n",
            "Friends - 5x08 - The One With The Thanksgiving Flashbacks.ru\n",
            "Friends - 3x16 - The One With The Morning After (2).ru\n",
            "Friends - 3x05 - The One With Frank Jr..ru\n",
            "Friends - 2x17 - The One Where Eddie Moves In.ru\n",
            "Friends - 2x24 - The One With Barry And Mindy's Wedding.ru\n",
            "Friends - 7x19 - The One With Ross And Monica's Cousin.ru\n",
            "Friends - 5x06 - The One With The Yeti.ru\n",
            "Friends - 4x02 - The One With The Cat.ru\n",
            "Friends - 6x09 - The One Where Ross Got High.ru\n",
            "Friends - 6x07 - The One Where Phoebe Runs.ru\n",
            "Friends - 3x15 - The One Where Ross And Rachel Take A Break (1).ru\n",
            "Friends - 1x05 - The One With The East German Laundry Detergent.ru\n",
            "Friends - 2x01 - The One With Ross's New Girlfriend.ru\n",
            "Friends - 2x01 - The One With Ross's New Girlfriend.DVDRip.ru\n",
            "Friends - 2x15 - The One Where Ross And Rachel...You Know.ru\n",
            "Friends - 3x20 - The One With The Dollhouse.ru\n",
            "Friends - 2x18 - The One Where Dr. Ramoray Dies.ru\n",
            "Friends - 2x06 - The One With The Baby On The Bus.ru\n",
            "Friends - 2x16 - The One Where Joey Moves Out.ru\n",
            "Friends - 2x13 - The One After The Super Bowl (2).ru\n",
            "Friends - 2x12 - The One After The Super Bowl (1).ru\n",
            "Friends - 7x13 - The One Where Rosita Dies.ru\n",
            "Friends - 7x10 - The One With The Holiday Armadillo.ru\n",
            "Friends - 7x08 - The One Where Chandler Doesn't Like Dogs.ru\n",
            "Friends - 7x09 - The One With All The Candy.ru\n",
            "Friends - 7x22 - The One With Chandler's Dad.ru\n",
            "Friends - 7x24-25 - The One With Chandler And Monica's Wedding (2).ru\n",
            "Friends - 7x18 - The One With Joey's Award.ru\n",
            "Friends - 5x23-24 - The One In Vegas (1).ru\n",
            "Friends - 5x15 - The One With The Girl Who Hits Joey.ru\n",
            "Friends - 5x11 - The One With All The Resolutions.ru\n",
            "Friends - 5x05 - The One With The Kips.ru\n",
            "Friends - 5x03 - The One Hundredth.ru\n",
            "Friends - 5x17 - The One With Rachel's Inadvertent Kiss.ru\n",
            "Friends - 5x18 - The One Where Rachel Smokes.ru\n",
            "Friends - 4x04 - The One With The Ballroom Dancing.ru\n",
            "Friends - 4x10 - The One With The Girl From Poughkeepsie.ru\n",
            "Friends - 4x05 - The One With Joey's New Girlfriend.ru\n",
            "Friends - 4x13 - The One With Rachel's Crush.ru\n",
            "Friends - 4x01 - The One With The Jellyfish.Tv.ru\n",
            "Friends - 4x15 - The One With All The Rugby.ru\n",
            "Friends - 4x08 - The One With Chandler In A Box.ru\n",
            "Friends - 6x01 - The One After Vegas.ru\n",
            "Friends - 6x16-17 - The One That Could Have Been (2).ru\n",
            "Friends - 6x04 - The One Where Joey Loses His Insurance.ru\n",
            "Friends - 6x12 - The One With The Joke.ru\n",
            "Friends - 6x06 - The One On The Last Night.ru\n",
            "Friends - 6x23 - The One With The Ring.ru\n",
            "Friends - 6x02 - The One Where Ross Hugs Rachel.ru\n",
            "Friends - 3x13 - The One Where Monica And Richard Are Just Friends.ru\n",
            "Friends - 3x14 - The One With Phoebe's Ex-Partner.ru\n",
            "Friends - 1x02 - The One With The Sonogram At The End.ru\n",
            "Friends - 1x19 - The One Where The Monkey Gets Away.ru\n",
            "Friends - 1x13 - The One With The Boobies.ru\n",
            "Friends - 1x06 - The One With The Butt.ru\n",
            "Friends - 1x09 - The One Where Underdog Gets Away.ru\n",
            "Friends - 1x17 - The One With Two Parts (2).ru\n",
            "Friends - 2x03 - The One Where Heckles Dies.ru\n",
            "Friends - 2x02 - The One With The Breast Milk.ru\n",
            "Friends - 2x22 - The One With The Two Parties.ru\n",
            "Friends - 2x14 - The One With The Prom Video.ru\n",
            "Friends - 2x07 - The One Where Ross Finds Out.ru\n",
            "Friends - 2x10 - The One With Russ.ru\n",
            "Friends - 2x21 - The One With The Bullies.ru\n",
            "Friends - 2x08 - The One With The List.ru\n",
            "Friends - 2x20 - The One Where Old Yeller Dies.NurlanB.ru\n",
            "Friends - 2x09 - The One With Phoebe's Dad.ru\n",
            "Friends - 7x14 - The One Where They All Turn Thirty.ru\n",
            "Friends - 7x06 - The One With The Nap Partners.ru\n",
            "Friends - 7x20 - The One With Rachel's Big Kiss.ru\n",
            "Friends - 7x12 - The One Where They're Up All Night.ru\n",
            "Friends - 7x01 - The One With Monica's Thunder.ru\n",
            "Friends - 7x16 - The One With The Truth About London.ru\n",
            "Friends - 7x02 - The One With Rachel's Book.ru\n",
            "Friends - 7x11 - The One With All The Cheesecakes.ru\n",
            "Friends - 7x15 - The One With Joey's New Brain.ru\n",
            "Friends - 7x23 - The One With Chandler And Monica's Wedding (1).ru\n",
            "Friends - 7x21 - The One With The Vows.ru\n",
            "Friends - 5x19 - The One Where Ross Can't Flirt.ru\n",
            "Friends - 5x09 - The One With Ross's Sandwich.ru\n",
            "Friends - 5x01 - The One After Ross Says Rachel.ru\n",
            "Friends - 5x13 - The One With Joey's Bag.ru\n",
            "Friends - 5x14 - The One Where Everybody Finds Out.ru\n",
            "Friends - 5x24-25 - The One In Vegas (2).ru\n",
            "Friends - 5x21 - The One With The Ball.ru\n",
            "Friends - 5x02 - The One With All The Kissing.ru\n",
            "Friends - 5x22 - The One With Joey's Big Break.ru\n",
            "Friends - 5x10 - The One With The Inappropriate Sister.ru\n",
            "Friends - 5x20 - The One With The Ride Along.ru\n",
            "Friends - 5x16 - The One With The Cop.ru\n",
            "Friends - 5x04 - The One Where Phoebe Hates PBS.ru\n",
            "Friends - 4x12 - The One With The Embryos.ru\n",
            "Friends - 4x17 - The One With The Free Porn.ru\n",
            "Friends - 4x22 - The One With The Worst Best Man Ever.ru\n",
            "Friends - 4x06 - The One With The Dirty Girl.ru\n",
            "Friends - 4x19 - The One With All The Haste.ru\n",
            "Friends - 4x16 - The One With The Fake Party.ru\n",
            "Friends - 4x01 - The One With The Jellyfish.ru\n",
            "Friends - 4x21 - The One With The Invitations.ru\n",
            "Friends - 4x03 - The One With The 'Cuffs.ru\n",
            "Friends - 4x09 - The One Where They're Going To Party!.ru\n",
            "Friends - 4x11 - The One With Phoebe's Uterus.ru\n",
            "Friends - 4x02 - The One With The Cat.Tv.ru\n",
            "Friends - 4x24-25 - The One With Ross's Wedding (2).ru\n",
            "Friends - 4x18 - The One With Rachel's New Dress.ru\n",
            "Friends - 4x23-24 - The One With Ross's Wedding (1).ru\n",
            "Friends - 4x07 - The One Where Chandler Crosses The Line.ru\n",
            "Friends - 4x14 - The One With Joey's Dirty Day.ru\n",
            "Friends - 6x21 - The One Where Ross Meets Elizabeth's Dad.ru\n",
            "Friends - 6x15 - The One That Could Have Been (1).ru\n",
            "Friends - 6x17 - The One With Unagi.ru\n",
            "Friends - 6x18 - The One Where Ross Dates A Student.ru\n",
            "Friends - 6x19 - The One With Joey's Fridge.ru\n",
            "Friends - 6x25-26 - The One With The Proposal (2).ru\n",
            "Friends - 6x20 - The One With Mac And C.H.E.E.S.E..ru\n",
            "Friends - 6x08 - The One With Ross's Teeth.ru\n",
            "Friends - 6x13 - The One With Rachel's Sister (1).ru\n",
            "Friends - 6x22 - The One Where Paul's The Man.ru\n",
            "Friends - 6x05 - The One With Joey's Porsche.ru\n",
            "Friends - 6x10 - The One With The Routine.ru\n",
            "Friends - 6x14 - The One Where Chandler Can't Cry (2).ru\n",
            "Friends - 6x03 - The One With Ross's Denial.ru\n",
            "Friends - 3x09 - The One With The Football.ru\n",
            "Friends - 3x03 - The One With The Jam.ru\n",
            "Friends - 3x08 - The One With The Giant Poking Device.ru\n",
            "Friends - 3x12 - The One With All The Jealousy.ru\n",
            "Friends - 3x04 - The One With The Metaphorical Tunnel.ru\n",
            "Friends - 3x17 - The One Without The Ski Trip.ru\n",
            "Friends - 3x07 - The One With The Race Car Bed.ru\n",
            "Friends - 3x11 - The One Where Chandler Can't Remember Which Sister.ru\n",
            "Friends - 3x06 - The One With The Flashback.ru\n",
            "Friends - 3x19 - The One With The Tiny T-Shirt.ru\n",
            "Friends - 3x21 - The One With A Chick And A Duck.ru\n",
            "Friends - 3x02 - The One Where No One's Ready.ru\n",
            "Friends - 1x12 - The One With The Dozen Lasagnas.ru\n",
            "Friends - 1x10 - The One With The Monkey.ru\n",
            "Friends - 1x07 - The One With The Blackout.ru\n",
            "Friends - 1x03 - The One With The Thumb.ru\n",
            "Friends - 1x18 - The One With All The Poker.ru\n",
            "Friends - 1x15 - The One With The Stoned Guy.ru\n",
            "Friends - 1x08 - The One Where Nana Dies Twice.ru\n",
            "Friends - 1x04 - The One With George Stephanopoulos.ru\n",
            "Friends - 1x11 - The One With Mrs. Bing.ru\n",
            "Friends - 1x20 - The One With The Evil Orthodontist.ru\n",
            "Friends - 1x14 - The One With The Candy Hearts.ru\n"
          ],
          "name": "stdout"
        }
      ]
    },
    {
      "cell_type": "markdown",
      "metadata": {
        "id": "H5nCx9wiyfi3",
        "colab_type": "text"
      },
      "source": [
        "С помощью обратного индекса посчитайте:  \n",
        "\n",
        "\n",
        "a) какое слово является самым частотным\n",
        "\n",
        "b) какое самым редким\n",
        "\n",
        "c) какой набор слов есть во всех документах коллекции\n",
        "\n",
        "d) какой сезон был самым популярным у Чендлера? у Моники?\n",
        "\n",
        "e) кто из главных героев статистически самый популярный? \n"
      ]
    },
    {
      "cell_type": "code",
      "metadata": {
        "id": "v_24JBBXEJls",
        "colab_type": "code",
        "outputId": "4089d961-e31a-46fb-d3d8-4472e4894193",
        "colab": {
          "base_uri": "https://localhost:8080/",
          "height": 34
        }
      },
      "source": [
        "max_freq = -sys.maxsize - 1\n",
        "max_freq_word = None\n",
        "for word in FriendsSearchEngine.inv_index:\n",
        "    freq = 0\n",
        "    for document in FriendsSearchEngine.inv_index[word]:\n",
        "        freq += FriendsSearchEngine.texts[document].count(word)\n",
        "    if freq > max_freq:\n",
        "        max_freq = freq\n",
        "        max_freq_word = word\n",
        "print(f\"Самое частотное слово: \\\"{max_freq_word}\\\".\")"
      ],
      "execution_count": 23,
      "outputs": [
        {
          "output_type": "stream",
          "text": [
            "Самое частотное слово: \"я\".\n"
          ],
          "name": "stdout"
        }
      ]
    },
    {
      "cell_type": "code",
      "metadata": {
        "id": "mTNowjRnK27-",
        "colab_type": "code",
        "outputId": "8d469b80-33e2-4661-ec30-2d44d8222f9e",
        "colab": {
          "base_uri": "https://localhost:8080/",
          "height": 34
        }
      },
      "source": [
        "min_freq = sys.maxsize\n",
        "min_freq_word = None\n",
        "for word in FriendsSearchEngine.inv_index:\n",
        "    freq = 0\n",
        "    for document in FriendsSearchEngine.inv_index[word]:\n",
        "        freq += FriendsSearchEngine.texts[document].count(word)\n",
        "    if freq < min_freq:\n",
        "        min_freq = freq\n",
        "        min_freq_word = word\n",
        "print(f\"Самое редкое слово: \\\"{min_freq_word}\\\".\")"
      ],
      "execution_count": 24,
      "outputs": [
        {
          "output_type": "stream",
          "text": [
            "Самое редкое слово: \"джуана\".\n"
          ],
          "name": "stdout"
        }
      ]
    },
    {
      "cell_type": "code",
      "metadata": {
        "id": "UWXB-Zyyyfi4",
        "colab_type": "code",
        "outputId": "950d8f42-f453-4ed0-fd89-ee5879db9802",
        "colab": {
          "base_uri": "https://localhost:8080/",
          "height": 71
        }
      },
      "source": [
        "universal_words = []\n",
        "for word in FriendsSearchEngine.inv_index:\n",
        "    if len(FriendsSearchEngine.inv_index[word]) == 165:\n",
        "        universal_words.append(word)\n",
        "universal_words.sort()\n",
        "print(f\"Слова, которые есть во всех документах коллекции:\\n{universal_words}\")"
      ],
      "execution_count": 25,
      "outputs": [
        {
          "output_type": "stream",
          "text": [
            "Слова, которые есть во всех документах коллекции:\n",
            "['а', 'быть', 'в', 'весь', 'да', 'думать', 'если', 'ещё', 'знать', 'и', 'как', 'мой', 'мочь', 'мы', 'на', 'не', 'нет', 'но', 'ну', 'о', 'он', 'она', 'просто', 'с', 'сказать', 'так', 'такой', 'тот', 'ты', 'у', 'хотеть', 'что', 'это', 'этот', 'я']\n"
          ],
          "name": "stdout"
        }
      ]
    },
    {
      "cell_type": "code",
      "metadata": {
        "id": "6gi6IPsPOAA_",
        "colab_type": "code",
        "outputId": "04292902-a299-43a9-b3d9-090ec45d9f02",
        "colab": {
          "base_uri": "https://localhost:8080/",
          "height": 34
        }
      },
      "source": [
        "count = Counter([re.search(r\"(\\d)x\\d\\d\", document).group(1) for document\n",
        "                 in FriendsSearchEngine.inv_index[\"чендлер\"]])\n",
        "print(f\"Самый популярный сезон Чендлера: {count.most_common(1)[0][0]}\")"
      ],
      "execution_count": 26,
      "outputs": [
        {
          "output_type": "stream",
          "text": [
            "Самый популярный сезон Чендлера: 6\n"
          ],
          "name": "stdout"
        }
      ]
    },
    {
      "cell_type": "code",
      "metadata": {
        "id": "y-JnSQT2MoKH",
        "colab_type": "code",
        "outputId": "534b002c-da5d-4fc1-8e3d-6aa7177010fb",
        "colab": {
          "base_uri": "https://localhost:8080/",
          "height": 34
        }
      },
      "source": [
        "count = Counter([re.search(r\"(\\d)x\\d\\d\", document).group(1) for document\n",
        "                 in FriendsSearchEngine.inv_index[\"моника\"]])\n",
        "print(f\"Самый популярный сезон Моники: {count.most_common(1)[0][0]}\")"
      ],
      "execution_count": 27,
      "outputs": [
        {
          "output_type": "stream",
          "text": [
            "Самый популярный сезон Моники: 2\n"
          ],
          "name": "stdout"
        }
      ]
    },
    {
      "cell_type": "code",
      "metadata": {
        "id": "eRgnzZaXQRs0",
        "colab_type": "code",
        "outputId": "f66251a3-2abe-4960-fce6-9c6ae2e7bf54",
        "colab": {
          "base_uri": "https://localhost:8080/",
          "height": 34
        }
      },
      "source": [
        "def popularity(name):\n",
        "    name = name.lower()\n",
        "    freq = 0\n",
        "    for document in FriendsSearchEngine.inv_index[name]:\n",
        "        freq += FriendsSearchEngine.texts[document].count(name)\n",
        "    return freq\n",
        "\n",
        "\n",
        "names = [\"Рэйчел\", \"Моника\", \"Фиби\", \"Джоуи\", \"Чендлер\", \"Росс\"]\n",
        "chars = {name: popularity(name) for name in names}\n",
        "print(f\"Самый популярный герой: {max(chars, key=lambda key: chars[key])}.\")"
      ],
      "execution_count": 28,
      "outputs": [
        {
          "output_type": "stream",
          "text": [
            "Самый популярный герой: Росс.\n"
          ],
          "name": "stdout"
        }
      ]
    },
    {
      "cell_type": "code",
      "metadata": {
        "id": "a8NXi5jgTet8",
        "colab_type": "code",
        "colab": {}
      },
      "source": [
        "with open(\"FriendsSearch.pkl\", \"wb\") as file:\n",
        "    pickle.dump(FriendsSearchEngine, file)"
      ],
      "execution_count": 0,
      "outputs": []
    },
    {
      "cell_type": "code",
      "metadata": {
        "id": "2nJXU9GkVF8x",
        "colab_type": "code",
        "colab": {}
      },
      "source": [
        "colab.files.download(\"FriendsSearch.pkl\")"
      ],
      "execution_count": 0,
      "outputs": []
    },
    {
      "cell_type": "code",
      "metadata": {
        "id": "w-1OnFZ8VxbZ",
        "colab_type": "code",
        "colab": {}
      },
      "source": [
        ""
      ],
      "execution_count": 0,
      "outputs": []
    }
  ]
}